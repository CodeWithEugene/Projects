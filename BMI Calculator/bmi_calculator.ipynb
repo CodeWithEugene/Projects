{
 "cells": [
  {
   "cell_type": "code",
   "execution_count": 5,
   "metadata": {},
   "outputs": [],
   "source": [
    "#The code below demonstrates my python script for calculating Body Mass Index (BMI) and determining the weight category of a person\n",
    "#The code takes in the weight and height of a person and calculates the BMI\n",
    "#The code then prints the BMI and the category weight of the person rounded to two decimal places(the categories are underweight, normal weight, overweight and obese)\n",
    "\n",
    "# Get user input for weight and height\n",
    "weight = float(input(\"Enter your weight in kilograms: \"))\n",
    "height = float(input(\"Enter your height in meters: \"))\n",
    "\n",
    "# Calculate BMI using the formula: weight / (height^2)\n",
    "bmi = weight / (height ** 2)\n",
    "\n",
    "# Determine BMI category and provide feedback\n",
    "if bmi < 18.5:\n",
    "    print(f\"Your BMI is {bmi:.2f} which means you are underweight.\") # For the underweight category\n",
    "elif 18.5 <= bmi < 25:\n",
    "    print(f\"Your BMI is {bmi:.2f} which means you are in the normal weight range.\") # For the normal weight category\n",
    "elif 25 <= bmi < 30:\n",
    "    print(f\"Your BMI is {bmi:.2f} which means you are overweight.\") # For the overweight category\n",
    "else:\n",
    "    print(f\"Your BMI is {bmi:.2f} which means you are obese.\") # For the obese category"
   ]
  },
  {
   "cell_type": "code",
   "execution_count": 10,
   "metadata": {},
   "outputs": [
    {
     "name": "stdout",
     "output_type": "stream",
     "text": [
      "Your BMI is 0.03, which is considered Underweight.\n"
     ]
    }
   ],
   "source": [
    "# bmi_calculator.py\n",
    "    # This program calculates Body Mass Index (BMI) and categorizes it\n",
    "    \n",
    "    # Function to calculate BMI using weight and height\n",
    "def calculate_bmi(weight, height):\n",
    "         # BMI formula: weight divided by height squared\n",
    "         bmi = weight / (height ** 2)\n",
    "         # Return the calculated BMI value\n",
    "         return bmi\n",
    "    \n",
    "    # Function to determine BMI category based on BMI value\n",
    "def get_bmi_category(bmi):\n",
    "         # Underweight category: BMI less than 18.5\n",
    "         if bmi < 18.5:\n",
    "              return \"Underweight\"\n",
    "         # Normal weight category: BMI between 18.5 and 24.9\n",
    "         elif 18.5 <= bmi < 24.9:\n",
    "              return \"Normal weight\"\n",
    "         # Overweight category: BMI between 25 and 29.9\n",
    "         elif 25 <= bmi < 29.9:\n",
    "              return \"Overweight\"\n",
    "         # Obese category: BMI 30 or higher\n",
    "         else:\n",
    "              return \"Obese\"\n",
    "    \n",
    "    # Main function that runs the program\n",
    "def main():\n",
    "         try:\n",
    "              # Get user input for weight in kilograms\n",
    "              weight = float(input(\"Enter your weight in kg: \"))\n",
    "              # Get user input for height in meters\n",
    "              height = float(input(\"Enter your height in meters: \"))\n",
    "              # Calculate BMI using the calculate_bmi function\n",
    "              bmi = calculate_bmi(weight, height)\n",
    "              # Get BMI category using the get_bmi_category function\n",
    "              category = get_bmi_category(bmi)\n",
    "              # Display the results to the user\n",
    "              print(f\"Your BMI is {bmi:.2f}, which is considered {category}.\")\n",
    "         except ValueError:\n",
    "              # Handle invalid input gracefully\n",
    "              print(\"Please enter valid numbers for weight and height.\")\n",
    "    \n",
    "    # Run the main function when the script is executed\n",
    "if __name__ == \"__main__\":\n",
    "         main()"
   ]
  }
 ],
 "metadata": {
  "kernelspec": {
   "display_name": ".venv",
   "language": "python",
   "name": "python3"
  },
  "language_info": {
   "codemirror_mode": {
    "name": "ipython",
    "version": 3
   },
   "file_extension": ".py",
   "mimetype": "text/x-python",
   "name": "python",
   "nbconvert_exporter": "python",
   "pygments_lexer": "ipython3",
   "version": "3.12.8"
  }
 },
 "nbformat": 4,
 "nbformat_minor": 2
}
